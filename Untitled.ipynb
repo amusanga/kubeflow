{
 "cells": [
  {
   "cell_type": "code",
   "execution_count": 38,
   "id": "1dc0628a-5d84-4ead-a731-d49edebb9ecc",
   "metadata": {},
   "outputs": [],
   "source": [
    "# Restart kernel after the pip install\n",
    "import kfp.dsl as dsl\n",
    "import kfp  # the Pipelines SDK.  \n",
    "from kfp import compiler"
   ]
  },
  {
   "cell_type": "code",
   "execution_count": 39,
   "id": "96b8a70c-311e-44e2-b21b-c35200d0cf59",
   "metadata": {},
   "outputs": [],
   "source": [
    "client = kfp.Client(host='http://localhost:8080')\n",
    " \n",
    "# client.list_experiments()\n",
    "# exp = client.create_experiment(name='t2t_notebook')"
   ]
  },
  {
   "cell_type": "code",
   "execution_count": 53,
   "id": "36b26ca2-f2c7-43fc-be49-c21e70b5c414",
   "metadata": {},
   "outputs": [],
   "source": [
    "import kfp\n",
    "namespace = 'kubeflow' # or the namespace you deployed Kubeflow Pipelines\n",
    "client = kfp.Client(host='http://10.244.0.31:3000')"
   ]
  },
  {
   "cell_type": "code",
   "execution_count": 54,
   "id": "cd8b5dfd-1fba-422a-80d2-70efb29cf809",
   "metadata": {
    "collapsed": true,
    "jupyter": {
     "outputs_hidden": true
    },
    "tags": []
   },
   "outputs": [
    {
     "ename": "ApiException",
     "evalue": "(403)\nReason: Forbidden\nHTTP response headers: HTTPHeaderDict({'content-length': '19', 'content-type': 'text/plain', 'date': 'Tue, 11 Jan 2022 13:54:11 GMT', 'server': 'istio-envoy', 'x-envoy-decorator-operation': 'ml-pipeline-ui.kubeflow.svc.cluster.local:80/*'})\nHTTP response body: RBAC: access denied\n",
     "output_type": "error",
     "traceback": [
      "\u001b[0;31m---------------------------------------------------------------------------\u001b[0m",
      "\u001b[0;31mApiException\u001b[0m                              Traceback (most recent call last)",
      "\u001b[0;32m<ipython-input-54-3b01dbbac213>\u001b[0m in \u001b[0;36m<module>\u001b[0;34m\u001b[0m\n\u001b[1;32m      1\u001b[0m \u001b[0;31m# import kfp\u001b[0m\u001b[0;34m\u001b[0m\u001b[0;34m\u001b[0m\u001b[0;34m\u001b[0m\u001b[0m\n\u001b[1;32m      2\u001b[0m \u001b[0;31m# client = kfp.Client(host='http://localhost:3000')\u001b[0m\u001b[0;34m\u001b[0m\u001b[0;34m\u001b[0m\u001b[0;34m\u001b[0m\u001b[0m\n\u001b[0;32m----> 3\u001b[0;31m \u001b[0mprint\u001b[0m\u001b[0;34m(\u001b[0m\u001b[0mclient\u001b[0m\u001b[0;34m.\u001b[0m\u001b[0mlist_experiments\u001b[0m\u001b[0;34m(\u001b[0m\u001b[0;34m)\u001b[0m\u001b[0;34m)\u001b[0m\u001b[0;34m\u001b[0m\u001b[0;34m\u001b[0m\u001b[0m\n\u001b[0m",
      "\u001b[0;32m/opt/conda/lib/python3.8/site-packages/kfp/_client.py\u001b[0m in \u001b[0;36mlist_experiments\u001b[0;34m(self, page_token, page_size, sort_by, namespace)\u001b[0m\n\u001b[1;32m    435\u001b[0m     \"\"\"\n\u001b[1;32m    436\u001b[0m     \u001b[0mnamespace\u001b[0m \u001b[0;34m=\u001b[0m \u001b[0mnamespace\u001b[0m \u001b[0;32mor\u001b[0m \u001b[0mself\u001b[0m\u001b[0;34m.\u001b[0m\u001b[0mget_user_namespace\u001b[0m\u001b[0;34m(\u001b[0m\u001b[0;34m)\u001b[0m\u001b[0;34m\u001b[0m\u001b[0;34m\u001b[0m\u001b[0m\n\u001b[0;32m--> 437\u001b[0;31m     response = self._experiment_api.list_experiment(\n\u001b[0m\u001b[1;32m    438\u001b[0m       \u001b[0mpage_token\u001b[0m\u001b[0;34m=\u001b[0m\u001b[0mpage_token\u001b[0m\u001b[0;34m,\u001b[0m\u001b[0;34m\u001b[0m\u001b[0;34m\u001b[0m\u001b[0m\n\u001b[1;32m    439\u001b[0m       \u001b[0mpage_size\u001b[0m\u001b[0;34m=\u001b[0m\u001b[0mpage_size\u001b[0m\u001b[0;34m,\u001b[0m\u001b[0;34m\u001b[0m\u001b[0;34m\u001b[0m\u001b[0m\n",
      "\u001b[0;32m/opt/conda/lib/python3.8/site-packages/kfp_server_api/api/experiment_service_api.py\u001b[0m in \u001b[0;36mlist_experiment\u001b[0;34m(self, **kwargs)\u001b[0m\n\u001b[1;32m    565\u001b[0m         \"\"\"\n\u001b[1;32m    566\u001b[0m         \u001b[0mkwargs\u001b[0m\u001b[0;34m[\u001b[0m\u001b[0;34m'_return_http_data_only'\u001b[0m\u001b[0;34m]\u001b[0m \u001b[0;34m=\u001b[0m \u001b[0;32mTrue\u001b[0m\u001b[0;34m\u001b[0m\u001b[0;34m\u001b[0m\u001b[0m\n\u001b[0;32m--> 567\u001b[0;31m         \u001b[0;32mreturn\u001b[0m \u001b[0mself\u001b[0m\u001b[0;34m.\u001b[0m\u001b[0mlist_experiment_with_http_info\u001b[0m\u001b[0;34m(\u001b[0m\u001b[0;34m**\u001b[0m\u001b[0mkwargs\u001b[0m\u001b[0;34m)\u001b[0m  \u001b[0;31m# noqa: E501\u001b[0m\u001b[0;34m\u001b[0m\u001b[0;34m\u001b[0m\u001b[0m\n\u001b[0m\u001b[1;32m    568\u001b[0m \u001b[0;34m\u001b[0m\u001b[0m\n\u001b[1;32m    569\u001b[0m     \u001b[0;32mdef\u001b[0m \u001b[0mlist_experiment_with_http_info\u001b[0m\u001b[0;34m(\u001b[0m\u001b[0mself\u001b[0m\u001b[0;34m,\u001b[0m \u001b[0;34m**\u001b[0m\u001b[0mkwargs\u001b[0m\u001b[0;34m)\u001b[0m\u001b[0;34m:\u001b[0m  \u001b[0;31m# noqa: E501\u001b[0m\u001b[0;34m\u001b[0m\u001b[0;34m\u001b[0m\u001b[0m\n",
      "\u001b[0;32m/opt/conda/lib/python3.8/site-packages/kfp_server_api/api/experiment_service_api.py\u001b[0m in \u001b[0;36mlist_experiment_with_http_info\u001b[0;34m(self, **kwargs)\u001b[0m\n\u001b[1;32m    666\u001b[0m         \u001b[0mauth_settings\u001b[0m \u001b[0;34m=\u001b[0m \u001b[0;34m[\u001b[0m\u001b[0;34m'Bearer'\u001b[0m\u001b[0;34m]\u001b[0m  \u001b[0;31m# noqa: E501\u001b[0m\u001b[0;34m\u001b[0m\u001b[0;34m\u001b[0m\u001b[0m\n\u001b[1;32m    667\u001b[0m \u001b[0;34m\u001b[0m\u001b[0m\n\u001b[0;32m--> 668\u001b[0;31m         return self.api_client.call_api(\n\u001b[0m\u001b[1;32m    669\u001b[0m             \u001b[0;34m'/apis/v1beta1/experiments'\u001b[0m\u001b[0;34m,\u001b[0m \u001b[0;34m'GET'\u001b[0m\u001b[0;34m,\u001b[0m\u001b[0;34m\u001b[0m\u001b[0;34m\u001b[0m\u001b[0m\n\u001b[1;32m    670\u001b[0m             \u001b[0mpath_params\u001b[0m\u001b[0;34m,\u001b[0m\u001b[0;34m\u001b[0m\u001b[0;34m\u001b[0m\u001b[0m\n",
      "\u001b[0;32m/opt/conda/lib/python3.8/site-packages/kfp_server_api/api_client.py\u001b[0m in \u001b[0;36mcall_api\u001b[0;34m(self, resource_path, method, path_params, query_params, header_params, body, post_params, files, response_type, auth_settings, async_req, _return_http_data_only, collection_formats, _preload_content, _request_timeout, _host)\u001b[0m\n\u001b[1;32m    362\u001b[0m         \"\"\"\n\u001b[1;32m    363\u001b[0m         \u001b[0;32mif\u001b[0m \u001b[0;32mnot\u001b[0m \u001b[0masync_req\u001b[0m\u001b[0;34m:\u001b[0m\u001b[0;34m\u001b[0m\u001b[0;34m\u001b[0m\u001b[0m\n\u001b[0;32m--> 364\u001b[0;31m             return self.__call_api(resource_path, method,\n\u001b[0m\u001b[1;32m    365\u001b[0m                                    \u001b[0mpath_params\u001b[0m\u001b[0;34m,\u001b[0m \u001b[0mquery_params\u001b[0m\u001b[0;34m,\u001b[0m \u001b[0mheader_params\u001b[0m\u001b[0;34m,\u001b[0m\u001b[0;34m\u001b[0m\u001b[0;34m\u001b[0m\u001b[0m\n\u001b[1;32m    366\u001b[0m                                    \u001b[0mbody\u001b[0m\u001b[0;34m,\u001b[0m \u001b[0mpost_params\u001b[0m\u001b[0;34m,\u001b[0m \u001b[0mfiles\u001b[0m\u001b[0;34m,\u001b[0m\u001b[0;34m\u001b[0m\u001b[0;34m\u001b[0m\u001b[0m\n",
      "\u001b[0;32m/opt/conda/lib/python3.8/site-packages/kfp_server_api/api_client.py\u001b[0m in \u001b[0;36m__call_api\u001b[0;34m(self, resource_path, method, path_params, query_params, header_params, body, post_params, files, response_type, auth_settings, _return_http_data_only, collection_formats, _preload_content, _request_timeout, _host)\u001b[0m\n\u001b[1;32m    186\u001b[0m         \u001b[0;32mexcept\u001b[0m \u001b[0mApiException\u001b[0m \u001b[0;32mas\u001b[0m \u001b[0me\u001b[0m\u001b[0;34m:\u001b[0m\u001b[0;34m\u001b[0m\u001b[0;34m\u001b[0m\u001b[0m\n\u001b[1;32m    187\u001b[0m             \u001b[0me\u001b[0m\u001b[0;34m.\u001b[0m\u001b[0mbody\u001b[0m \u001b[0;34m=\u001b[0m \u001b[0me\u001b[0m\u001b[0;34m.\u001b[0m\u001b[0mbody\u001b[0m\u001b[0;34m.\u001b[0m\u001b[0mdecode\u001b[0m\u001b[0;34m(\u001b[0m\u001b[0;34m'utf-8'\u001b[0m\u001b[0;34m)\u001b[0m \u001b[0;32mif\u001b[0m \u001b[0msix\u001b[0m\u001b[0;34m.\u001b[0m\u001b[0mPY3\u001b[0m \u001b[0;32melse\u001b[0m \u001b[0me\u001b[0m\u001b[0;34m.\u001b[0m\u001b[0mbody\u001b[0m\u001b[0;34m\u001b[0m\u001b[0;34m\u001b[0m\u001b[0m\n\u001b[0;32m--> 188\u001b[0;31m             \u001b[0;32mraise\u001b[0m \u001b[0me\u001b[0m\u001b[0;34m\u001b[0m\u001b[0;34m\u001b[0m\u001b[0m\n\u001b[0m\u001b[1;32m    189\u001b[0m \u001b[0;34m\u001b[0m\u001b[0m\n\u001b[1;32m    190\u001b[0m         \u001b[0mcontent_type\u001b[0m \u001b[0;34m=\u001b[0m \u001b[0mresponse_data\u001b[0m\u001b[0;34m.\u001b[0m\u001b[0mgetheader\u001b[0m\u001b[0;34m(\u001b[0m\u001b[0;34m'content-type'\u001b[0m\u001b[0;34m)\u001b[0m\u001b[0;34m\u001b[0m\u001b[0;34m\u001b[0m\u001b[0m\n",
      "\u001b[0;32m/opt/conda/lib/python3.8/site-packages/kfp_server_api/api_client.py\u001b[0m in \u001b[0;36m__call_api\u001b[0;34m(self, resource_path, method, path_params, query_params, header_params, body, post_params, files, response_type, auth_settings, _return_http_data_only, collection_formats, _preload_content, _request_timeout, _host)\u001b[0m\n\u001b[1;32m    179\u001b[0m         \u001b[0;32mtry\u001b[0m\u001b[0;34m:\u001b[0m\u001b[0;34m\u001b[0m\u001b[0;34m\u001b[0m\u001b[0m\n\u001b[1;32m    180\u001b[0m             \u001b[0;31m# perform request and return response\u001b[0m\u001b[0;34m\u001b[0m\u001b[0;34m\u001b[0m\u001b[0;34m\u001b[0m\u001b[0m\n\u001b[0;32m--> 181\u001b[0;31m             response_data = self.request(\n\u001b[0m\u001b[1;32m    182\u001b[0m                 \u001b[0mmethod\u001b[0m\u001b[0;34m,\u001b[0m \u001b[0murl\u001b[0m\u001b[0;34m,\u001b[0m \u001b[0mquery_params\u001b[0m\u001b[0;34m=\u001b[0m\u001b[0mquery_params\u001b[0m\u001b[0;34m,\u001b[0m \u001b[0mheaders\u001b[0m\u001b[0;34m=\u001b[0m\u001b[0mheader_params\u001b[0m\u001b[0;34m,\u001b[0m\u001b[0;34m\u001b[0m\u001b[0;34m\u001b[0m\u001b[0m\n\u001b[1;32m    183\u001b[0m                 \u001b[0mpost_params\u001b[0m\u001b[0;34m=\u001b[0m\u001b[0mpost_params\u001b[0m\u001b[0;34m,\u001b[0m \u001b[0mbody\u001b[0m\u001b[0;34m=\u001b[0m\u001b[0mbody\u001b[0m\u001b[0;34m,\u001b[0m\u001b[0;34m\u001b[0m\u001b[0;34m\u001b[0m\u001b[0m\n",
      "\u001b[0;32m/opt/conda/lib/python3.8/site-packages/kfp_server_api/api_client.py\u001b[0m in \u001b[0;36mrequest\u001b[0;34m(self, method, url, query_params, headers, post_params, body, _preload_content, _request_timeout)\u001b[0m\n\u001b[1;32m    387\u001b[0m         \u001b[0;34m\"\"\"Makes the HTTP request using RESTClient.\"\"\"\u001b[0m\u001b[0;34m\u001b[0m\u001b[0;34m\u001b[0m\u001b[0m\n\u001b[1;32m    388\u001b[0m         \u001b[0;32mif\u001b[0m \u001b[0mmethod\u001b[0m \u001b[0;34m==\u001b[0m \u001b[0;34m\"GET\"\u001b[0m\u001b[0;34m:\u001b[0m\u001b[0;34m\u001b[0m\u001b[0;34m\u001b[0m\u001b[0m\n\u001b[0;32m--> 389\u001b[0;31m             return self.rest_client.GET(url,\n\u001b[0m\u001b[1;32m    390\u001b[0m                                         \u001b[0mquery_params\u001b[0m\u001b[0;34m=\u001b[0m\u001b[0mquery_params\u001b[0m\u001b[0;34m,\u001b[0m\u001b[0;34m\u001b[0m\u001b[0;34m\u001b[0m\u001b[0m\n\u001b[1;32m    391\u001b[0m                                         \u001b[0m_preload_content\u001b[0m\u001b[0;34m=\u001b[0m\u001b[0m_preload_content\u001b[0m\u001b[0;34m,\u001b[0m\u001b[0;34m\u001b[0m\u001b[0;34m\u001b[0m\u001b[0m\n",
      "\u001b[0;32m/opt/conda/lib/python3.8/site-packages/kfp_server_api/rest.py\u001b[0m in \u001b[0;36mGET\u001b[0;34m(self, url, headers, query_params, _preload_content, _request_timeout)\u001b[0m\n\u001b[1;32m    228\u001b[0m     def GET(self, url, headers=None, query_params=None, _preload_content=True,\n\u001b[1;32m    229\u001b[0m             _request_timeout=None):\n\u001b[0;32m--> 230\u001b[0;31m         return self.request(\"GET\", url,\n\u001b[0m\u001b[1;32m    231\u001b[0m                             \u001b[0mheaders\u001b[0m\u001b[0;34m=\u001b[0m\u001b[0mheaders\u001b[0m\u001b[0;34m,\u001b[0m\u001b[0;34m\u001b[0m\u001b[0;34m\u001b[0m\u001b[0m\n\u001b[1;32m    232\u001b[0m                             \u001b[0m_preload_content\u001b[0m\u001b[0;34m=\u001b[0m\u001b[0m_preload_content\u001b[0m\u001b[0;34m,\u001b[0m\u001b[0;34m\u001b[0m\u001b[0;34m\u001b[0m\u001b[0m\n",
      "\u001b[0;32m/opt/conda/lib/python3.8/site-packages/kfp_server_api/rest.py\u001b[0m in \u001b[0;36mrequest\u001b[0;34m(self, method, url, query_params, headers, body, post_params, _preload_content, _request_timeout)\u001b[0m\n\u001b[1;32m    222\u001b[0m \u001b[0;34m\u001b[0m\u001b[0m\n\u001b[1;32m    223\u001b[0m         \u001b[0;32mif\u001b[0m \u001b[0;32mnot\u001b[0m \u001b[0;36m200\u001b[0m \u001b[0;34m<=\u001b[0m \u001b[0mr\u001b[0m\u001b[0;34m.\u001b[0m\u001b[0mstatus\u001b[0m \u001b[0;34m<=\u001b[0m \u001b[0;36m299\u001b[0m\u001b[0;34m:\u001b[0m\u001b[0;34m\u001b[0m\u001b[0;34m\u001b[0m\u001b[0m\n\u001b[0;32m--> 224\u001b[0;31m             \u001b[0;32mraise\u001b[0m \u001b[0mApiException\u001b[0m\u001b[0;34m(\u001b[0m\u001b[0mhttp_resp\u001b[0m\u001b[0;34m=\u001b[0m\u001b[0mr\u001b[0m\u001b[0;34m)\u001b[0m\u001b[0;34m\u001b[0m\u001b[0;34m\u001b[0m\u001b[0m\n\u001b[0m\u001b[1;32m    225\u001b[0m \u001b[0;34m\u001b[0m\u001b[0m\n\u001b[1;32m    226\u001b[0m         \u001b[0;32mreturn\u001b[0m \u001b[0mr\u001b[0m\u001b[0;34m\u001b[0m\u001b[0;34m\u001b[0m\u001b[0m\n",
      "\u001b[0;31mApiException\u001b[0m: (403)\nReason: Forbidden\nHTTP response headers: HTTPHeaderDict({'content-length': '19', 'content-type': 'text/plain', 'date': 'Tue, 11 Jan 2022 13:54:11 GMT', 'server': 'istio-envoy', 'x-envoy-decorator-operation': 'ml-pipeline-ui.kubeflow.svc.cluster.local:80/*'})\nHTTP response body: RBAC: access denied\n"
     ]
    }
   ],
   "source": [
    "# import kfp\n",
    "# client = kfp.Client(host='http://localhost:3000')\n",
    "print(client.list_experiments())"
   ]
  },
  {
   "cell_type": "code",
   "execution_count": 42,
   "id": "38ef3b73-5824-49d0-b968-1aeb17473f58",
   "metadata": {},
   "outputs": [],
   "source": [
    "# import kfp\n",
    "# client = kfp.Client(host='http://localhost:3000')\n",
    "# print(client.list_experiments())"
   ]
  },
  {
   "cell_type": "code",
   "execution_count": 43,
   "id": "b7be9107-c260-426d-9c05-f2fe1b9b0523",
   "metadata": {},
   "outputs": [],
   "source": [
    "class LoadData(dsl.ContainerOp):\n",
    "    def __init__(self, name):\n",
    "        super(LoadData, self).__init__(\n",
    "            name=name,\n",
    "            # image needs to be a compile-time string\n",
    "            image=\"amusanga/ml-pipeline-data-loading:v1\",\n",
    "            command=[\"python3\", \"loadData.py\"],\n",
    "            # arguments=[\"--bucket\", bucket, \"--cutoff_year\", cutoff_year, \"--kfp\"],\n",
    "            # file_outputs={\"blob-path\": \"/blob_path.txt\"},\n",
    "        )\n",
    "\n",
    "\n",
    "class Preprocessing(dsl.ContainerOp):\n",
    "    def __init__(self, name):\n",
    "        super(Preprocessing, self).__init__(\n",
    "            name=name,\n",
    "            # image needs to be a compile-time string\n",
    "            image=\"amusanga/ml-pipeline-preprocessing:v1\",\n",
    "            command=[\"python3\", \"preprocessing.py\"],\n",
    "            # arguments=[\n",
    "            #     \"--tag\",\n",
    "            #     tag,\n",
    "            #     \"--blob_path\",\n",
    "            #     blob_path,\n",
    "            #     \"--bucket\",\n",
    "            #     bucket,\n",
    "            #     \"--model\",\n",
    "            #     model,\n",
    "            #     \"--kfp\",\n",
    "            # ],\n",
    "            # file_outputs={\n",
    "            #     \"mlpipeline_metrics\": \"/mlpipeline-metrics.json\",\n",
    "            #     \"accuracy\": \"/tmp/accuracy\",\n",
    "            # },\n",
    "        )\n",
    "\n",
    "\n",
    "class Training(dsl.ContainerOp):\n",
    "    def __init__(self, name):\n",
    "        super(Training, self).__init__(\n",
    "            name=name,\n",
    "            # image needs to be a compile-time string\n",
    "            image=\"amusanga/ml-pipeline-training:v1\",\n",
    "            command=[\"python3\", \"training.py\"],\n",
    "            # arguments=[\n",
    "            #     \"--tag\",\n",
    "            #     tag,\n",
    "            #     \"--bucket\",\n",
    "            #     bucket,\n",
    "            # ],\n",
    "        )\n",
    "\n",
    "\n",
    "class Serving(dsl.ContainerOp):\n",
    "    def __init__(self, name):\n",
    "        super(Serving, self).__init__(\n",
    "            name=name,\n",
    "            # image needs to be a compile-time string\n",
    "            image=\"amusanga/ml-pipeline-training:v1\",\n",
    "            command=[\"python3\", \"serving.py\"],\n",
    "            # arguments=[\n",
    "            #     \"--tag\",\n",
    "            #     tag,\n",
    "            #     \"--bucket\",\n",
    "            #     bucket,\n",
    "            # ],\n",
    "        )"
   ]
  },
  {
   "cell_type": "code",
   "execution_count": 44,
   "id": "1ac68887-23ce-4bfd-8158-3b0561efef9d",
   "metadata": {},
   "outputs": [],
   "source": [
    "@dsl.pipeline(name=\"Data encoding\", description=\"Train models to encode data\")\n",
    "def preprocess_train_deploy(\n",
    "    bucket: str = \"<bucket>\",\n",
    "    cutoff_year: str = \"2010\",\n",
    "    tag: str = \"4\",\n",
    "    model: str = \"DeepModel\",\n",
    "):\n",
    "\n",
    "    \n",
    "\n",
    "    LoadData_op = LoadData(\"Data Loading\")\n",
    "    \n",
    "    preprocess_op = Preprocessing(\"Data reprocessing\")\n",
    "    \n",
    "    preprocess_op.after(LoadData_op)\n",
    "\n",
    "    # pylint: disable=unused-variable\n",
    "    train_op = Training(\"Model Training\")\n",
    "    train_op.after(preprocess_op)\n",
    "\n",
    "   # with dsl.Condition(train_op.outputs[\"accuracy\"] > 0.7):\n",
    "    deploy_op = Serving(\"deploy\")\n",
    "    deploy_op.after(train_op)"
   ]
  },
  {
   "cell_type": "code",
   "execution_count": 45,
   "id": "60178052-764c-4976-8881-0e1a03b26ed3",
   "metadata": {},
   "outputs": [
    {
     "name": "stderr",
     "output_type": "stream",
     "text": [
      "/opt/conda/lib/python3.8/site-packages/kfp/dsl/_container_op.py:1150: FutureWarning: Please create reusable components instead of constructing ContainerOp instances directly. Reusable components are shareable, portable and have compatibility and support guarantees. Please see the documentation: https://www.kubeflow.org/docs/pipelines/sdk/component-development/#writing-your-component-definition-file The components can be created manually (or, in case of python, using kfp.components.create_component_from_func or func_to_container_op) and then loaded using kfp.components.load_component_from_file, load_component_from_uri or load_component_from_text: https://kubeflow-pipelines.readthedocs.io/en/stable/source/kfp.components.html#kfp.components.load_component_from_file\n",
      "  warnings.warn(\n"
     ]
    }
   ],
   "source": [
    "if __name__ == \"__main__\":\n",
    "    compiler.Compiler().compile(preprocess_train_deploy,\"new-pipeline.tar.gz\")\n",
    "#     run = client.run_pipeline(exp.id, 'ghsumm2', 'new-param.tar.gz',\n",
    "#                           params={'working_dir': WORKING_DIR,\n",
    "#                                   'github_token': GITHUB_TOKEN,\n",
    "#                                   'deploy_webapp': DEPLOY_WEBAPP,\n",
    "#                                   'project': PROJECT_NAME})"
   ]
  },
  {
   "cell_type": "code",
   "execution_count": null,
   "id": "2836729f-ee37-4e6c-8507-a10a5c0c78ba",
   "metadata": {},
   "outputs": [],
   "source": []
  },
  {
   "cell_type": "code",
   "execution_count": null,
   "id": "d8e87b2d-d689-4567-a925-dacc52f82716",
   "metadata": {},
   "outputs": [],
   "source": []
  }
 ],
 "metadata": {
  "kernelspec": {
   "display_name": "Python 3",
   "language": "python",
   "name": "python3"
  },
  "language_info": {
   "codemirror_mode": {
    "name": "ipython",
    "version": 3
   },
   "file_extension": ".py",
   "mimetype": "text/x-python",
   "name": "python",
   "nbconvert_exporter": "python",
   "pygments_lexer": "ipython3",
   "version": "3.8.10"
  }
 },
 "nbformat": 4,
 "nbformat_minor": 5
}
